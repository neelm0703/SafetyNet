{
  "cells": [
    {
      "cell_type": "code",
      "execution_count": null,
      "metadata": {
        "id": "SOfcN6TfxMnv"
      },
      "outputs": [],
      "source": [
        "import pandas as pd\n",
        "import matplotlib.pyplot as pls\n",
        "import seaborn as sns\n",
        "import numpy as np\n",
        "import torch\n",
        "import torch.nn as nn\n",
        "from sklearn.preprocessing import LabelEncoder\n",
        "from sklearn.model_selection import train_test_split\n",
        "from sklearn.utils.class_weight import compute_class_weight\n",
        "import joblib"
      ]
    },
    {
      "cell_type": "code",
      "execution_count": null,
      "metadata": {
        "colab": {
          "base_uri": "https://localhost:8080/",
          "height": 394
        },
        "id": "0_4DEH2lxXhN",
        "outputId": "fb679bb8-5ea5-4a11-9c9a-30b82f89d8fd"
      },
      "outputs": [
        {
          "output_type": "execute_result",
          "data": {
            "text/plain": [
              "         diseases  anxiety and nervousness  depression  shortness of breath  \\\n",
              "0  panic disorder                        1           0                    1   \n",
              "1  panic disorder                        0           0                    1   \n",
              "2  panic disorder                        1           1                    1   \n",
              "3  panic disorder                        1           0                    0   \n",
              "4  panic disorder                        1           1                    0   \n",
              "\n",
              "   depressive or psychotic symptoms  sharp chest pain  dizziness  insomnia  \\\n",
              "0                                 1                 0          0         0   \n",
              "1                                 1                 0          1         1   \n",
              "2                                 1                 0          1         1   \n",
              "3                                 1                 0          1         1   \n",
              "4                                 0                 0          0         1   \n",
              "\n",
              "   abnormal involuntary movements  chest tightness  ...  \\\n",
              "0                               0                1  ...   \n",
              "1                               0                0  ...   \n",
              "2                               0                0  ...   \n",
              "3                               1                0  ...   \n",
              "4                               1                1  ...   \n",
              "\n",
              "   stuttering or stammering  problems with orgasm  nose deformity  \\\n",
              "0                         0                     0               0   \n",
              "1                         0                     0               0   \n",
              "2                         0                     0               0   \n",
              "3                         0                     0               0   \n",
              "4                         0                     0               0   \n",
              "\n",
              "   lump over jaw  sore in nose  hip weakness  back swelling  \\\n",
              "0              0             0             0              0   \n",
              "1              0             0             0              0   \n",
              "2              0             0             0              0   \n",
              "3              0             0             0              0   \n",
              "4              0             0             0              0   \n",
              "\n",
              "   ankle stiffness or tightness  ankle weakness  neck weakness  \n",
              "0                             0               0              0  \n",
              "1                             0               0              0  \n",
              "2                             0               0              0  \n",
              "3                             0               0              0  \n",
              "4                             0               0              0  \n",
              "\n",
              "[5 rows x 378 columns]"
            ],
            "text/html": [
              "\n",
              "  <div id=\"df-fc2da81d-47dd-4c28-b444-6abb0fa85615\" class=\"colab-df-container\">\n",
              "    <div>\n",
              "<style scoped>\n",
              "    .dataframe tbody tr th:only-of-type {\n",
              "        vertical-align: middle;\n",
              "    }\n",
              "\n",
              "    .dataframe tbody tr th {\n",
              "        vertical-align: top;\n",
              "    }\n",
              "\n",
              "    .dataframe thead th {\n",
              "        text-align: right;\n",
              "    }\n",
              "</style>\n",
              "<table border=\"1\" class=\"dataframe\">\n",
              "  <thead>\n",
              "    <tr style=\"text-align: right;\">\n",
              "      <th></th>\n",
              "      <th>diseases</th>\n",
              "      <th>anxiety and nervousness</th>\n",
              "      <th>depression</th>\n",
              "      <th>shortness of breath</th>\n",
              "      <th>depressive or psychotic symptoms</th>\n",
              "      <th>sharp chest pain</th>\n",
              "      <th>dizziness</th>\n",
              "      <th>insomnia</th>\n",
              "      <th>abnormal involuntary movements</th>\n",
              "      <th>chest tightness</th>\n",
              "      <th>...</th>\n",
              "      <th>stuttering or stammering</th>\n",
              "      <th>problems with orgasm</th>\n",
              "      <th>nose deformity</th>\n",
              "      <th>lump over jaw</th>\n",
              "      <th>sore in nose</th>\n",
              "      <th>hip weakness</th>\n",
              "      <th>back swelling</th>\n",
              "      <th>ankle stiffness or tightness</th>\n",
              "      <th>ankle weakness</th>\n",
              "      <th>neck weakness</th>\n",
              "    </tr>\n",
              "  </thead>\n",
              "  <tbody>\n",
              "    <tr>\n",
              "      <th>0</th>\n",
              "      <td>panic disorder</td>\n",
              "      <td>1</td>\n",
              "      <td>0</td>\n",
              "      <td>1</td>\n",
              "      <td>1</td>\n",
              "      <td>0</td>\n",
              "      <td>0</td>\n",
              "      <td>0</td>\n",
              "      <td>0</td>\n",
              "      <td>1</td>\n",
              "      <td>...</td>\n",
              "      <td>0</td>\n",
              "      <td>0</td>\n",
              "      <td>0</td>\n",
              "      <td>0</td>\n",
              "      <td>0</td>\n",
              "      <td>0</td>\n",
              "      <td>0</td>\n",
              "      <td>0</td>\n",
              "      <td>0</td>\n",
              "      <td>0</td>\n",
              "    </tr>\n",
              "    <tr>\n",
              "      <th>1</th>\n",
              "      <td>panic disorder</td>\n",
              "      <td>0</td>\n",
              "      <td>0</td>\n",
              "      <td>1</td>\n",
              "      <td>1</td>\n",
              "      <td>0</td>\n",
              "      <td>1</td>\n",
              "      <td>1</td>\n",
              "      <td>0</td>\n",
              "      <td>0</td>\n",
              "      <td>...</td>\n",
              "      <td>0</td>\n",
              "      <td>0</td>\n",
              "      <td>0</td>\n",
              "      <td>0</td>\n",
              "      <td>0</td>\n",
              "      <td>0</td>\n",
              "      <td>0</td>\n",
              "      <td>0</td>\n",
              "      <td>0</td>\n",
              "      <td>0</td>\n",
              "    </tr>\n",
              "    <tr>\n",
              "      <th>2</th>\n",
              "      <td>panic disorder</td>\n",
              "      <td>1</td>\n",
              "      <td>1</td>\n",
              "      <td>1</td>\n",
              "      <td>1</td>\n",
              "      <td>0</td>\n",
              "      <td>1</td>\n",
              "      <td>1</td>\n",
              "      <td>0</td>\n",
              "      <td>0</td>\n",
              "      <td>...</td>\n",
              "      <td>0</td>\n",
              "      <td>0</td>\n",
              "      <td>0</td>\n",
              "      <td>0</td>\n",
              "      <td>0</td>\n",
              "      <td>0</td>\n",
              "      <td>0</td>\n",
              "      <td>0</td>\n",
              "      <td>0</td>\n",
              "      <td>0</td>\n",
              "    </tr>\n",
              "    <tr>\n",
              "      <th>3</th>\n",
              "      <td>panic disorder</td>\n",
              "      <td>1</td>\n",
              "      <td>0</td>\n",
              "      <td>0</td>\n",
              "      <td>1</td>\n",
              "      <td>0</td>\n",
              "      <td>1</td>\n",
              "      <td>1</td>\n",
              "      <td>1</td>\n",
              "      <td>0</td>\n",
              "      <td>...</td>\n",
              "      <td>0</td>\n",
              "      <td>0</td>\n",
              "      <td>0</td>\n",
              "      <td>0</td>\n",
              "      <td>0</td>\n",
              "      <td>0</td>\n",
              "      <td>0</td>\n",
              "      <td>0</td>\n",
              "      <td>0</td>\n",
              "      <td>0</td>\n",
              "    </tr>\n",
              "    <tr>\n",
              "      <th>4</th>\n",
              "      <td>panic disorder</td>\n",
              "      <td>1</td>\n",
              "      <td>1</td>\n",
              "      <td>0</td>\n",
              "      <td>0</td>\n",
              "      <td>0</td>\n",
              "      <td>0</td>\n",
              "      <td>1</td>\n",
              "      <td>1</td>\n",
              "      <td>1</td>\n",
              "      <td>...</td>\n",
              "      <td>0</td>\n",
              "      <td>0</td>\n",
              "      <td>0</td>\n",
              "      <td>0</td>\n",
              "      <td>0</td>\n",
              "      <td>0</td>\n",
              "      <td>0</td>\n",
              "      <td>0</td>\n",
              "      <td>0</td>\n",
              "      <td>0</td>\n",
              "    </tr>\n",
              "  </tbody>\n",
              "</table>\n",
              "<p>5 rows × 378 columns</p>\n",
              "</div>\n",
              "    <div class=\"colab-df-buttons\">\n",
              "\n",
              "  <div class=\"colab-df-container\">\n",
              "    <button class=\"colab-df-convert\" onclick=\"convertToInteractive('df-fc2da81d-47dd-4c28-b444-6abb0fa85615')\"\n",
              "            title=\"Convert this dataframe to an interactive table.\"\n",
              "            style=\"display:none;\">\n",
              "\n",
              "  <svg xmlns=\"http://www.w3.org/2000/svg\" height=\"24px\" viewBox=\"0 -960 960 960\">\n",
              "    <path d=\"M120-120v-720h720v720H120Zm60-500h600v-160H180v160Zm220 220h160v-160H400v160Zm0 220h160v-160H400v160ZM180-400h160v-160H180v160Zm440 0h160v-160H620v160ZM180-180h160v-160H180v160Zm440 0h160v-160H620v160Z\"/>\n",
              "  </svg>\n",
              "    </button>\n",
              "\n",
              "  <style>\n",
              "    .colab-df-container {\n",
              "      display:flex;\n",
              "      gap: 12px;\n",
              "    }\n",
              "\n",
              "    .colab-df-convert {\n",
              "      background-color: #E8F0FE;\n",
              "      border: none;\n",
              "      border-radius: 50%;\n",
              "      cursor: pointer;\n",
              "      display: none;\n",
              "      fill: #1967D2;\n",
              "      height: 32px;\n",
              "      padding: 0 0 0 0;\n",
              "      width: 32px;\n",
              "    }\n",
              "\n",
              "    .colab-df-convert:hover {\n",
              "      background-color: #E2EBFA;\n",
              "      box-shadow: 0px 1px 2px rgba(60, 64, 67, 0.3), 0px 1px 3px 1px rgba(60, 64, 67, 0.15);\n",
              "      fill: #174EA6;\n",
              "    }\n",
              "\n",
              "    .colab-df-buttons div {\n",
              "      margin-bottom: 4px;\n",
              "    }\n",
              "\n",
              "    [theme=dark] .colab-df-convert {\n",
              "      background-color: #3B4455;\n",
              "      fill: #D2E3FC;\n",
              "    }\n",
              "\n",
              "    [theme=dark] .colab-df-convert:hover {\n",
              "      background-color: #434B5C;\n",
              "      box-shadow: 0px 1px 3px 1px rgba(0, 0, 0, 0.15);\n",
              "      filter: drop-shadow(0px 1px 2px rgba(0, 0, 0, 0.3));\n",
              "      fill: #FFFFFF;\n",
              "    }\n",
              "  </style>\n",
              "\n",
              "    <script>\n",
              "      const buttonEl =\n",
              "        document.querySelector('#df-fc2da81d-47dd-4c28-b444-6abb0fa85615 button.colab-df-convert');\n",
              "      buttonEl.style.display =\n",
              "        google.colab.kernel.accessAllowed ? 'block' : 'none';\n",
              "\n",
              "      async function convertToInteractive(key) {\n",
              "        const element = document.querySelector('#df-fc2da81d-47dd-4c28-b444-6abb0fa85615');\n",
              "        const dataTable =\n",
              "          await google.colab.kernel.invokeFunction('convertToInteractive',\n",
              "                                                    [key], {});\n",
              "        if (!dataTable) return;\n",
              "\n",
              "        const docLinkHtml = 'Like what you see? Visit the ' +\n",
              "          '<a target=\"_blank\" href=https://colab.research.google.com/notebooks/data_table.ipynb>data table notebook</a>'\n",
              "          + ' to learn more about interactive tables.';\n",
              "        element.innerHTML = '';\n",
              "        dataTable['output_type'] = 'display_data';\n",
              "        await google.colab.output.renderOutput(dataTable, element);\n",
              "        const docLink = document.createElement('div');\n",
              "        docLink.innerHTML = docLinkHtml;\n",
              "        element.appendChild(docLink);\n",
              "      }\n",
              "    </script>\n",
              "  </div>\n",
              "\n",
              "\n",
              "    <div id=\"df-be607399-4121-44b7-a677-6aebeac1be55\">\n",
              "      <button class=\"colab-df-quickchart\" onclick=\"quickchart('df-be607399-4121-44b7-a677-6aebeac1be55')\"\n",
              "                title=\"Suggest charts\"\n",
              "                style=\"display:none;\">\n",
              "\n",
              "<svg xmlns=\"http://www.w3.org/2000/svg\" height=\"24px\"viewBox=\"0 0 24 24\"\n",
              "     width=\"24px\">\n",
              "    <g>\n",
              "        <path d=\"M19 3H5c-1.1 0-2 .9-2 2v14c0 1.1.9 2 2 2h14c1.1 0 2-.9 2-2V5c0-1.1-.9-2-2-2zM9 17H7v-7h2v7zm4 0h-2V7h2v10zm4 0h-2v-4h2v4z\"/>\n",
              "    </g>\n",
              "</svg>\n",
              "      </button>\n",
              "\n",
              "<style>\n",
              "  .colab-df-quickchart {\n",
              "      --bg-color: #E8F0FE;\n",
              "      --fill-color: #1967D2;\n",
              "      --hover-bg-color: #E2EBFA;\n",
              "      --hover-fill-color: #174EA6;\n",
              "      --disabled-fill-color: #AAA;\n",
              "      --disabled-bg-color: #DDD;\n",
              "  }\n",
              "\n",
              "  [theme=dark] .colab-df-quickchart {\n",
              "      --bg-color: #3B4455;\n",
              "      --fill-color: #D2E3FC;\n",
              "      --hover-bg-color: #434B5C;\n",
              "      --hover-fill-color: #FFFFFF;\n",
              "      --disabled-bg-color: #3B4455;\n",
              "      --disabled-fill-color: #666;\n",
              "  }\n",
              "\n",
              "  .colab-df-quickchart {\n",
              "    background-color: var(--bg-color);\n",
              "    border: none;\n",
              "    border-radius: 50%;\n",
              "    cursor: pointer;\n",
              "    display: none;\n",
              "    fill: var(--fill-color);\n",
              "    height: 32px;\n",
              "    padding: 0;\n",
              "    width: 32px;\n",
              "  }\n",
              "\n",
              "  .colab-df-quickchart:hover {\n",
              "    background-color: var(--hover-bg-color);\n",
              "    box-shadow: 0 1px 2px rgba(60, 64, 67, 0.3), 0 1px 3px 1px rgba(60, 64, 67, 0.15);\n",
              "    fill: var(--button-hover-fill-color);\n",
              "  }\n",
              "\n",
              "  .colab-df-quickchart-complete:disabled,\n",
              "  .colab-df-quickchart-complete:disabled:hover {\n",
              "    background-color: var(--disabled-bg-color);\n",
              "    fill: var(--disabled-fill-color);\n",
              "    box-shadow: none;\n",
              "  }\n",
              "\n",
              "  .colab-df-spinner {\n",
              "    border: 2px solid var(--fill-color);\n",
              "    border-color: transparent;\n",
              "    border-bottom-color: var(--fill-color);\n",
              "    animation:\n",
              "      spin 1s steps(1) infinite;\n",
              "  }\n",
              "\n",
              "  @keyframes spin {\n",
              "    0% {\n",
              "      border-color: transparent;\n",
              "      border-bottom-color: var(--fill-color);\n",
              "      border-left-color: var(--fill-color);\n",
              "    }\n",
              "    20% {\n",
              "      border-color: transparent;\n",
              "      border-left-color: var(--fill-color);\n",
              "      border-top-color: var(--fill-color);\n",
              "    }\n",
              "    30% {\n",
              "      border-color: transparent;\n",
              "      border-left-color: var(--fill-color);\n",
              "      border-top-color: var(--fill-color);\n",
              "      border-right-color: var(--fill-color);\n",
              "    }\n",
              "    40% {\n",
              "      border-color: transparent;\n",
              "      border-right-color: var(--fill-color);\n",
              "      border-top-color: var(--fill-color);\n",
              "    }\n",
              "    60% {\n",
              "      border-color: transparent;\n",
              "      border-right-color: var(--fill-color);\n",
              "    }\n",
              "    80% {\n",
              "      border-color: transparent;\n",
              "      border-right-color: var(--fill-color);\n",
              "      border-bottom-color: var(--fill-color);\n",
              "    }\n",
              "    90% {\n",
              "      border-color: transparent;\n",
              "      border-bottom-color: var(--fill-color);\n",
              "    }\n",
              "  }\n",
              "</style>\n",
              "\n",
              "      <script>\n",
              "        async function quickchart(key) {\n",
              "          const quickchartButtonEl =\n",
              "            document.querySelector('#' + key + ' button');\n",
              "          quickchartButtonEl.disabled = true;  // To prevent multiple clicks.\n",
              "          quickchartButtonEl.classList.add('colab-df-spinner');\n",
              "          try {\n",
              "            const charts = await google.colab.kernel.invokeFunction(\n",
              "                'suggestCharts', [key], {});\n",
              "          } catch (error) {\n",
              "            console.error('Error during call to suggestCharts:', error);\n",
              "          }\n",
              "          quickchartButtonEl.classList.remove('colab-df-spinner');\n",
              "          quickchartButtonEl.classList.add('colab-df-quickchart-complete');\n",
              "        }\n",
              "        (() => {\n",
              "          let quickchartButtonEl =\n",
              "            document.querySelector('#df-be607399-4121-44b7-a677-6aebeac1be55 button');\n",
              "          quickchartButtonEl.style.display =\n",
              "            google.colab.kernel.accessAllowed ? 'block' : 'none';\n",
              "        })();\n",
              "      </script>\n",
              "    </div>\n",
              "\n",
              "    </div>\n",
              "  </div>\n"
            ],
            "application/vnd.google.colaboratory.intrinsic+json": {
              "type": "dataframe",
              "variable_name": "df"
            }
          },
          "metadata": {},
          "execution_count": 27
        }
      ],
      "source": [
        "df = pd.read_csv(\"/content/Disease-Prediction-Data.csv\")\n",
        "df.head()"
      ]
    },
    {
      "cell_type": "code",
      "source": [
        "unique_diseases = df['diseases'].unique()\n",
        "disease_df = pd.DataFrame(unique_diseases, columns=['Disease'])\n",
        "disease_df[\"Description\"] = None\n",
        "disease_df[\"Symptoms\"] = None\n",
        "disease_df[\"Medicines and Treatment\"] = None\n",
        "disease_df.to_csv(\"DiseaseDetails.csv\")"
      ],
      "metadata": {
        "id": "aOJI7RKonEHu"
      },
      "execution_count": null,
      "outputs": []
    },
    {
      "cell_type": "code",
      "execution_count": null,
      "metadata": {
        "colab": {
          "base_uri": "https://localhost:8080/"
        },
        "id": "IUrkSK5sxyoJ",
        "outputId": "1cbb6b14-47b5-4979-93dc-00f7dfe79823"
      },
      "outputs": [
        {
          "output_type": "execute_result",
          "data": {
            "text/plain": [
              "(246945, 378)"
            ]
          },
          "metadata": {},
          "execution_count": 29
        }
      ],
      "source": [
        "df.shape"
      ]
    },
    {
      "cell_type": "code",
      "execution_count": null,
      "metadata": {
        "colab": {
          "base_uri": "https://localhost:8080/"
        },
        "id": "EefY0TdMx3ho",
        "outputId": "7bd2ed51-19e5-43c3-b48d-f363e2840438"
      },
      "outputs": [
        {
          "output_type": "execute_result",
          "data": {
            "text/plain": [
              "773"
            ]
          },
          "metadata": {},
          "execution_count": 30
        }
      ],
      "source": [
        "df['diseases'].nunique()"
      ]
    },
    {
      "cell_type": "code",
      "execution_count": null,
      "metadata": {
        "colab": {
          "base_uri": "https://localhost:8080/"
        },
        "id": "BrLW0KUz3KMg",
        "outputId": "8b67a524-a91f-4875-e5a3-a60de04ba6c3"
      },
      "outputs": [
        {
          "output_type": "execute_result",
          "data": {
            "text/plain": [
              "2"
            ]
          },
          "metadata": {},
          "execution_count": 31
        }
      ],
      "source": [
        "# Removing diseases that only occur once\n",
        "disease_counts = df['diseases'].value_counts()\n",
        "rare_diseases = disease_counts[disease_counts == 1].index.tolist()\n",
        "df = df[~df['diseases'].isin(rare_diseases)]\n",
        "df['diseases'].value_counts().min()"
      ]
    },
    {
      "cell_type": "code",
      "execution_count": null,
      "metadata": {
        "colab": {
          "base_uri": "https://localhost:8080/"
        },
        "id": "NXcgTJvLkKoV",
        "outputId": "3387707a-97c0-4ce3-98e4-dd0745ac833b"
      },
      "outputs": [
        {
          "output_type": "execute_result",
          "data": {
            "text/plain": [
              "754"
            ]
          },
          "metadata": {},
          "execution_count": 32
        }
      ],
      "source": [
        "df['diseases'].nunique()"
      ]
    },
    {
      "cell_type": "code",
      "execution_count": null,
      "metadata": {
        "colab": {
          "base_uri": "https://localhost:8080/",
          "height": 308
        },
        "id": "QrC7UG2Q12MU",
        "outputId": "58c1bd55-f206-4290-be3a-d2fe862413b7"
      },
      "outputs": [
        {
          "output_type": "execute_result",
          "data": {
            "text/plain": [
              "   diseases  anxiety and nervousness  depression  shortness of breath  \\\n",
              "0       516                        1           0                    1   \n",
              "1       516                        0           0                    1   \n",
              "2       516                        1           1                    1   \n",
              "3       516                        1           0                    0   \n",
              "4       516                        1           1                    0   \n",
              "\n",
              "   depressive or psychotic symptoms  sharp chest pain  dizziness  insomnia  \\\n",
              "0                                 1                 0          0         0   \n",
              "1                                 1                 0          1         1   \n",
              "2                                 1                 0          1         1   \n",
              "3                                 1                 0          1         1   \n",
              "4                                 0                 0          0         1   \n",
              "\n",
              "   abnormal involuntary movements  chest tightness  ...  \\\n",
              "0                               0                1  ...   \n",
              "1                               0                0  ...   \n",
              "2                               0                0  ...   \n",
              "3                               1                0  ...   \n",
              "4                               1                1  ...   \n",
              "\n",
              "   stuttering or stammering  problems with orgasm  nose deformity  \\\n",
              "0                         0                     0               0   \n",
              "1                         0                     0               0   \n",
              "2                         0                     0               0   \n",
              "3                         0                     0               0   \n",
              "4                         0                     0               0   \n",
              "\n",
              "   lump over jaw  sore in nose  hip weakness  back swelling  \\\n",
              "0              0             0             0              0   \n",
              "1              0             0             0              0   \n",
              "2              0             0             0              0   \n",
              "3              0             0             0              0   \n",
              "4              0             0             0              0   \n",
              "\n",
              "   ankle stiffness or tightness  ankle weakness  neck weakness  \n",
              "0                             0               0              0  \n",
              "1                             0               0              0  \n",
              "2                             0               0              0  \n",
              "3                             0               0              0  \n",
              "4                             0               0              0  \n",
              "\n",
              "[5 rows x 378 columns]"
            ],
            "text/html": [
              "\n",
              "  <div id=\"df-1c9d02b0-80b0-4013-96a6-5924a4c9e7ec\" class=\"colab-df-container\">\n",
              "    <div>\n",
              "<style scoped>\n",
              "    .dataframe tbody tr th:only-of-type {\n",
              "        vertical-align: middle;\n",
              "    }\n",
              "\n",
              "    .dataframe tbody tr th {\n",
              "        vertical-align: top;\n",
              "    }\n",
              "\n",
              "    .dataframe thead th {\n",
              "        text-align: right;\n",
              "    }\n",
              "</style>\n",
              "<table border=\"1\" class=\"dataframe\">\n",
              "  <thead>\n",
              "    <tr style=\"text-align: right;\">\n",
              "      <th></th>\n",
              "      <th>diseases</th>\n",
              "      <th>anxiety and nervousness</th>\n",
              "      <th>depression</th>\n",
              "      <th>shortness of breath</th>\n",
              "      <th>depressive or psychotic symptoms</th>\n",
              "      <th>sharp chest pain</th>\n",
              "      <th>dizziness</th>\n",
              "      <th>insomnia</th>\n",
              "      <th>abnormal involuntary movements</th>\n",
              "      <th>chest tightness</th>\n",
              "      <th>...</th>\n",
              "      <th>stuttering or stammering</th>\n",
              "      <th>problems with orgasm</th>\n",
              "      <th>nose deformity</th>\n",
              "      <th>lump over jaw</th>\n",
              "      <th>sore in nose</th>\n",
              "      <th>hip weakness</th>\n",
              "      <th>back swelling</th>\n",
              "      <th>ankle stiffness or tightness</th>\n",
              "      <th>ankle weakness</th>\n",
              "      <th>neck weakness</th>\n",
              "    </tr>\n",
              "  </thead>\n",
              "  <tbody>\n",
              "    <tr>\n",
              "      <th>0</th>\n",
              "      <td>516</td>\n",
              "      <td>1</td>\n",
              "      <td>0</td>\n",
              "      <td>1</td>\n",
              "      <td>1</td>\n",
              "      <td>0</td>\n",
              "      <td>0</td>\n",
              "      <td>0</td>\n",
              "      <td>0</td>\n",
              "      <td>1</td>\n",
              "      <td>...</td>\n",
              "      <td>0</td>\n",
              "      <td>0</td>\n",
              "      <td>0</td>\n",
              "      <td>0</td>\n",
              "      <td>0</td>\n",
              "      <td>0</td>\n",
              "      <td>0</td>\n",
              "      <td>0</td>\n",
              "      <td>0</td>\n",
              "      <td>0</td>\n",
              "    </tr>\n",
              "    <tr>\n",
              "      <th>1</th>\n",
              "      <td>516</td>\n",
              "      <td>0</td>\n",
              "      <td>0</td>\n",
              "      <td>1</td>\n",
              "      <td>1</td>\n",
              "      <td>0</td>\n",
              "      <td>1</td>\n",
              "      <td>1</td>\n",
              "      <td>0</td>\n",
              "      <td>0</td>\n",
              "      <td>...</td>\n",
              "      <td>0</td>\n",
              "      <td>0</td>\n",
              "      <td>0</td>\n",
              "      <td>0</td>\n",
              "      <td>0</td>\n",
              "      <td>0</td>\n",
              "      <td>0</td>\n",
              "      <td>0</td>\n",
              "      <td>0</td>\n",
              "      <td>0</td>\n",
              "    </tr>\n",
              "    <tr>\n",
              "      <th>2</th>\n",
              "      <td>516</td>\n",
              "      <td>1</td>\n",
              "      <td>1</td>\n",
              "      <td>1</td>\n",
              "      <td>1</td>\n",
              "      <td>0</td>\n",
              "      <td>1</td>\n",
              "      <td>1</td>\n",
              "      <td>0</td>\n",
              "      <td>0</td>\n",
              "      <td>...</td>\n",
              "      <td>0</td>\n",
              "      <td>0</td>\n",
              "      <td>0</td>\n",
              "      <td>0</td>\n",
              "      <td>0</td>\n",
              "      <td>0</td>\n",
              "      <td>0</td>\n",
              "      <td>0</td>\n",
              "      <td>0</td>\n",
              "      <td>0</td>\n",
              "    </tr>\n",
              "    <tr>\n",
              "      <th>3</th>\n",
              "      <td>516</td>\n",
              "      <td>1</td>\n",
              "      <td>0</td>\n",
              "      <td>0</td>\n",
              "      <td>1</td>\n",
              "      <td>0</td>\n",
              "      <td>1</td>\n",
              "      <td>1</td>\n",
              "      <td>1</td>\n",
              "      <td>0</td>\n",
              "      <td>...</td>\n",
              "      <td>0</td>\n",
              "      <td>0</td>\n",
              "      <td>0</td>\n",
              "      <td>0</td>\n",
              "      <td>0</td>\n",
              "      <td>0</td>\n",
              "      <td>0</td>\n",
              "      <td>0</td>\n",
              "      <td>0</td>\n",
              "      <td>0</td>\n",
              "    </tr>\n",
              "    <tr>\n",
              "      <th>4</th>\n",
              "      <td>516</td>\n",
              "      <td>1</td>\n",
              "      <td>1</td>\n",
              "      <td>0</td>\n",
              "      <td>0</td>\n",
              "      <td>0</td>\n",
              "      <td>0</td>\n",
              "      <td>1</td>\n",
              "      <td>1</td>\n",
              "      <td>1</td>\n",
              "      <td>...</td>\n",
              "      <td>0</td>\n",
              "      <td>0</td>\n",
              "      <td>0</td>\n",
              "      <td>0</td>\n",
              "      <td>0</td>\n",
              "      <td>0</td>\n",
              "      <td>0</td>\n",
              "      <td>0</td>\n",
              "      <td>0</td>\n",
              "      <td>0</td>\n",
              "    </tr>\n",
              "  </tbody>\n",
              "</table>\n",
              "<p>5 rows × 378 columns</p>\n",
              "</div>\n",
              "    <div class=\"colab-df-buttons\">\n",
              "\n",
              "  <div class=\"colab-df-container\">\n",
              "    <button class=\"colab-df-convert\" onclick=\"convertToInteractive('df-1c9d02b0-80b0-4013-96a6-5924a4c9e7ec')\"\n",
              "            title=\"Convert this dataframe to an interactive table.\"\n",
              "            style=\"display:none;\">\n",
              "\n",
              "  <svg xmlns=\"http://www.w3.org/2000/svg\" height=\"24px\" viewBox=\"0 -960 960 960\">\n",
              "    <path d=\"M120-120v-720h720v720H120Zm60-500h600v-160H180v160Zm220 220h160v-160H400v160Zm0 220h160v-160H400v160ZM180-400h160v-160H180v160Zm440 0h160v-160H620v160ZM180-180h160v-160H180v160Zm440 0h160v-160H620v160Z\"/>\n",
              "  </svg>\n",
              "    </button>\n",
              "\n",
              "  <style>\n",
              "    .colab-df-container {\n",
              "      display:flex;\n",
              "      gap: 12px;\n",
              "    }\n",
              "\n",
              "    .colab-df-convert {\n",
              "      background-color: #E8F0FE;\n",
              "      border: none;\n",
              "      border-radius: 50%;\n",
              "      cursor: pointer;\n",
              "      display: none;\n",
              "      fill: #1967D2;\n",
              "      height: 32px;\n",
              "      padding: 0 0 0 0;\n",
              "      width: 32px;\n",
              "    }\n",
              "\n",
              "    .colab-df-convert:hover {\n",
              "      background-color: #E2EBFA;\n",
              "      box-shadow: 0px 1px 2px rgba(60, 64, 67, 0.3), 0px 1px 3px 1px rgba(60, 64, 67, 0.15);\n",
              "      fill: #174EA6;\n",
              "    }\n",
              "\n",
              "    .colab-df-buttons div {\n",
              "      margin-bottom: 4px;\n",
              "    }\n",
              "\n",
              "    [theme=dark] .colab-df-convert {\n",
              "      background-color: #3B4455;\n",
              "      fill: #D2E3FC;\n",
              "    }\n",
              "\n",
              "    [theme=dark] .colab-df-convert:hover {\n",
              "      background-color: #434B5C;\n",
              "      box-shadow: 0px 1px 3px 1px rgba(0, 0, 0, 0.15);\n",
              "      filter: drop-shadow(0px 1px 2px rgba(0, 0, 0, 0.3));\n",
              "      fill: #FFFFFF;\n",
              "    }\n",
              "  </style>\n",
              "\n",
              "    <script>\n",
              "      const buttonEl =\n",
              "        document.querySelector('#df-1c9d02b0-80b0-4013-96a6-5924a4c9e7ec button.colab-df-convert');\n",
              "      buttonEl.style.display =\n",
              "        google.colab.kernel.accessAllowed ? 'block' : 'none';\n",
              "\n",
              "      async function convertToInteractive(key) {\n",
              "        const element = document.querySelector('#df-1c9d02b0-80b0-4013-96a6-5924a4c9e7ec');\n",
              "        const dataTable =\n",
              "          await google.colab.kernel.invokeFunction('convertToInteractive',\n",
              "                                                    [key], {});\n",
              "        if (!dataTable) return;\n",
              "\n",
              "        const docLinkHtml = 'Like what you see? Visit the ' +\n",
              "          '<a target=\"_blank\" href=https://colab.research.google.com/notebooks/data_table.ipynb>data table notebook</a>'\n",
              "          + ' to learn more about interactive tables.';\n",
              "        element.innerHTML = '';\n",
              "        dataTable['output_type'] = 'display_data';\n",
              "        await google.colab.output.renderOutput(dataTable, element);\n",
              "        const docLink = document.createElement('div');\n",
              "        docLink.innerHTML = docLinkHtml;\n",
              "        element.appendChild(docLink);\n",
              "      }\n",
              "    </script>\n",
              "  </div>\n",
              "\n",
              "\n",
              "    <div id=\"df-44f295a4-27c8-4c5b-b600-11355d25a01d\">\n",
              "      <button class=\"colab-df-quickchart\" onclick=\"quickchart('df-44f295a4-27c8-4c5b-b600-11355d25a01d')\"\n",
              "                title=\"Suggest charts\"\n",
              "                style=\"display:none;\">\n",
              "\n",
              "<svg xmlns=\"http://www.w3.org/2000/svg\" height=\"24px\"viewBox=\"0 0 24 24\"\n",
              "     width=\"24px\">\n",
              "    <g>\n",
              "        <path d=\"M19 3H5c-1.1 0-2 .9-2 2v14c0 1.1.9 2 2 2h14c1.1 0 2-.9 2-2V5c0-1.1-.9-2-2-2zM9 17H7v-7h2v7zm4 0h-2V7h2v10zm4 0h-2v-4h2v4z\"/>\n",
              "    </g>\n",
              "</svg>\n",
              "      </button>\n",
              "\n",
              "<style>\n",
              "  .colab-df-quickchart {\n",
              "      --bg-color: #E8F0FE;\n",
              "      --fill-color: #1967D2;\n",
              "      --hover-bg-color: #E2EBFA;\n",
              "      --hover-fill-color: #174EA6;\n",
              "      --disabled-fill-color: #AAA;\n",
              "      --disabled-bg-color: #DDD;\n",
              "  }\n",
              "\n",
              "  [theme=dark] .colab-df-quickchart {\n",
              "      --bg-color: #3B4455;\n",
              "      --fill-color: #D2E3FC;\n",
              "      --hover-bg-color: #434B5C;\n",
              "      --hover-fill-color: #FFFFFF;\n",
              "      --disabled-bg-color: #3B4455;\n",
              "      --disabled-fill-color: #666;\n",
              "  }\n",
              "\n",
              "  .colab-df-quickchart {\n",
              "    background-color: var(--bg-color);\n",
              "    border: none;\n",
              "    border-radius: 50%;\n",
              "    cursor: pointer;\n",
              "    display: none;\n",
              "    fill: var(--fill-color);\n",
              "    height: 32px;\n",
              "    padding: 0;\n",
              "    width: 32px;\n",
              "  }\n",
              "\n",
              "  .colab-df-quickchart:hover {\n",
              "    background-color: var(--hover-bg-color);\n",
              "    box-shadow: 0 1px 2px rgba(60, 64, 67, 0.3), 0 1px 3px 1px rgba(60, 64, 67, 0.15);\n",
              "    fill: var(--button-hover-fill-color);\n",
              "  }\n",
              "\n",
              "  .colab-df-quickchart-complete:disabled,\n",
              "  .colab-df-quickchart-complete:disabled:hover {\n",
              "    background-color: var(--disabled-bg-color);\n",
              "    fill: var(--disabled-fill-color);\n",
              "    box-shadow: none;\n",
              "  }\n",
              "\n",
              "  .colab-df-spinner {\n",
              "    border: 2px solid var(--fill-color);\n",
              "    border-color: transparent;\n",
              "    border-bottom-color: var(--fill-color);\n",
              "    animation:\n",
              "      spin 1s steps(1) infinite;\n",
              "  }\n",
              "\n",
              "  @keyframes spin {\n",
              "    0% {\n",
              "      border-color: transparent;\n",
              "      border-bottom-color: var(--fill-color);\n",
              "      border-left-color: var(--fill-color);\n",
              "    }\n",
              "    20% {\n",
              "      border-color: transparent;\n",
              "      border-left-color: var(--fill-color);\n",
              "      border-top-color: var(--fill-color);\n",
              "    }\n",
              "    30% {\n",
              "      border-color: transparent;\n",
              "      border-left-color: var(--fill-color);\n",
              "      border-top-color: var(--fill-color);\n",
              "      border-right-color: var(--fill-color);\n",
              "    }\n",
              "    40% {\n",
              "      border-color: transparent;\n",
              "      border-right-color: var(--fill-color);\n",
              "      border-top-color: var(--fill-color);\n",
              "    }\n",
              "    60% {\n",
              "      border-color: transparent;\n",
              "      border-right-color: var(--fill-color);\n",
              "    }\n",
              "    80% {\n",
              "      border-color: transparent;\n",
              "      border-right-color: var(--fill-color);\n",
              "      border-bottom-color: var(--fill-color);\n",
              "    }\n",
              "    90% {\n",
              "      border-color: transparent;\n",
              "      border-bottom-color: var(--fill-color);\n",
              "    }\n",
              "  }\n",
              "</style>\n",
              "\n",
              "      <script>\n",
              "        async function quickchart(key) {\n",
              "          const quickchartButtonEl =\n",
              "            document.querySelector('#' + key + ' button');\n",
              "          quickchartButtonEl.disabled = true;  // To prevent multiple clicks.\n",
              "          quickchartButtonEl.classList.add('colab-df-spinner');\n",
              "          try {\n",
              "            const charts = await google.colab.kernel.invokeFunction(\n",
              "                'suggestCharts', [key], {});\n",
              "          } catch (error) {\n",
              "            console.error('Error during call to suggestCharts:', error);\n",
              "          }\n",
              "          quickchartButtonEl.classList.remove('colab-df-spinner');\n",
              "          quickchartButtonEl.classList.add('colab-df-quickchart-complete');\n",
              "        }\n",
              "        (() => {\n",
              "          let quickchartButtonEl =\n",
              "            document.querySelector('#df-44f295a4-27c8-4c5b-b600-11355d25a01d button');\n",
              "          quickchartButtonEl.style.display =\n",
              "            google.colab.kernel.accessAllowed ? 'block' : 'none';\n",
              "        })();\n",
              "      </script>\n",
              "    </div>\n",
              "\n",
              "    </div>\n",
              "  </div>\n"
            ],
            "application/vnd.google.colaboratory.intrinsic+json": {
              "type": "dataframe",
              "variable_name": "df"
            }
          },
          "metadata": {},
          "execution_count": 33
        }
      ],
      "source": [
        "le = LabelEncoder()\n",
        "df['diseases'] = le.fit_transform(df['diseases'])\n",
        "df.head()"
      ]
    },
    {
      "cell_type": "code",
      "source": [
        "joblib.dump(le, 'label_encoder.pkl')"
      ],
      "metadata": {
        "colab": {
          "base_uri": "https://localhost:8080/"
        },
        "id": "RUz_k-AnLH1B",
        "outputId": "32106d29-216a-47d5-9fc7-4878a3f5bac4"
      },
      "execution_count": null,
      "outputs": [
        {
          "output_type": "execute_result",
          "data": {
            "text/plain": [
              "['label_encoder.pkl']"
            ]
          },
          "metadata": {},
          "execution_count": 34
        }
      ]
    },
    {
      "cell_type": "code",
      "source": [
        "df.shape"
      ],
      "metadata": {
        "colab": {
          "base_uri": "https://localhost:8080/"
        },
        "id": "rLah1qTRZyYw",
        "outputId": "6202f48c-9eaf-4e7a-ec7b-d76615b689ba"
      },
      "execution_count": null,
      "outputs": [
        {
          "output_type": "execute_result",
          "data": {
            "text/plain": [
              "(246926, 378)"
            ]
          },
          "metadata": {},
          "execution_count": 10
        }
      ]
    },
    {
      "cell_type": "code",
      "execution_count": null,
      "metadata": {
        "colab": {
          "base_uri": "https://localhost:8080/"
        },
        "id": "OAoB9KV3JpQk",
        "outputId": "8b0b98a1-431a-44bb-db95-fe6ecdc98dd8"
      },
      "outputs": [
        {
          "output_type": "execute_result",
          "data": {
            "text/plain": [
              "tensor([[1, 0, 1,  ..., 0, 0, 0],\n",
              "        [0, 0, 1,  ..., 0, 0, 0],\n",
              "        [1, 1, 1,  ..., 0, 0, 0],\n",
              "        ...,\n",
              "        [0, 0, 0,  ..., 0, 0, 0],\n",
              "        [0, 0, 0,  ..., 0, 0, 0],\n",
              "        [0, 0, 0,  ..., 0, 0, 0]])"
            ]
          },
          "metadata": {},
          "execution_count": 11
        }
      ],
      "source": [
        "X = torch.from_numpy(df.iloc[:, 1:].to_numpy())\n",
        "X"
      ]
    },
    {
      "cell_type": "code",
      "execution_count": null,
      "metadata": {
        "colab": {
          "base_uri": "https://localhost:8080/"
        },
        "id": "u3Eg3bjWOveu",
        "outputId": "73951e26-8b72-47a5-9058-c884192bb85b"
      },
      "outputs": [
        {
          "output_type": "execute_result",
          "data": {
            "text/plain": [
              "tensor([516, 516, 516,  ..., 491, 491, 491])"
            ]
          },
          "metadata": {},
          "execution_count": 12
        }
      ],
      "source": [
        "y = torch.from_numpy(df['diseases'].to_numpy())\n",
        "y"
      ]
    },
    {
      "cell_type": "code",
      "execution_count": null,
      "metadata": {
        "colab": {
          "base_uri": "https://localhost:8080/"
        },
        "id": "426AG7Vzzobw",
        "outputId": "121bce8d-fef1-4df4-aa2e-9bd8996ae0e8"
      },
      "outputs": [
        {
          "output_type": "execute_result",
          "data": {
            "text/plain": [
              "tensor([[0., 0., 0.,  ..., 0., 0., 0.],\n",
              "        [0., 0., 0.,  ..., 0., 0., 0.],\n",
              "        [0., 0., 0.,  ..., 0., 0., 0.],\n",
              "        ...,\n",
              "        [0., 0., 0.,  ..., 0., 0., 0.],\n",
              "        [0., 0., 0.,  ..., 0., 0., 0.],\n",
              "        [0., 0., 0.,  ..., 0., 0., 0.]])"
            ]
          },
          "metadata": {},
          "execution_count": 13
        }
      ],
      "source": [
        "RANDOM_SEED = 42\n",
        "X_train, X_test, y_train, y_test = train_test_split(X, y, test_size=0.2, stratify=y, random_state=RANDOM_SEED)\n",
        "X_train, X_test  = X_train.to(torch.float), X_test.to(torch.float)\n",
        "X_train"
      ]
    },
    {
      "cell_type": "code",
      "execution_count": null,
      "metadata": {
        "id": "QPSKQgly67mc",
        "colab": {
          "base_uri": "https://localhost:8080/",
          "height": 35
        },
        "outputId": "d9d7dbfd-7ec1-494e-cd92-76406afec357"
      },
      "outputs": [
        {
          "output_type": "execute_result",
          "data": {
            "text/plain": [
              "'cuda'"
            ],
            "application/vnd.google.colaboratory.intrinsic+json": {
              "type": "string"
            }
          },
          "metadata": {},
          "execution_count": 14
        }
      ],
      "source": [
        "device = \"cuda\" if torch.cuda.is_available() else \"cpu\"\n",
        "device"
      ]
    },
    {
      "cell_type": "code",
      "execution_count": null,
      "metadata": {
        "id": "712VDggqFEH0"
      },
      "outputs": [],
      "source": [
        "class DiseasePredictor(nn.Module):\n",
        "  def __init__(self, input_size=377, output_size=754):\n",
        "    super().__init__()\n",
        "\n",
        "    self.layers = nn.Sequential(\n",
        "        nn.Linear(input_size, 512),\n",
        "        nn.LeakyReLU(0.001),\n",
        "        nn.BatchNorm1d(512),\n",
        "        nn.Dropout(0.3),\n",
        "\n",
        "        nn.Linear(512, 1024),\n",
        "        nn.LeakyReLU(0.001),\n",
        "        nn.BatchNorm1d(1024),\n",
        "        nn.Dropout(0.3),\n",
        "\n",
        "        nn.Linear(1024, 512),\n",
        "        nn.LeakyReLU(0.01),\n",
        "        nn.BatchNorm1d(512),\n",
        "        nn.Dropout(0.3),\n",
        "\n",
        "        nn.Linear(512, output_size)\n",
        "    )\n",
        "\n",
        "  def forward(self, X):\n",
        "    return self.layers(X)"
      ]
    },
    {
      "cell_type": "code",
      "execution_count": null,
      "metadata": {
        "id": "sZvNQ-S3jCUR"
      },
      "outputs": [],
      "source": [
        "def accuracy_func(y_logits, y_true):\n",
        "  y_pred = torch.softmax(y_logits, dim=1).argmax(dim=1)\n",
        "  accuracy = (y_pred.eq(y_true).sum() / len(y_true)) * 100\n",
        "  return accuracy"
      ]
    },
    {
      "cell_type": "code",
      "source": [
        "def focal_loss(logits, targets, alpha=1, gamma=2):\n",
        "    ce_loss = nn.functional.cross_entropy(logits, targets, reduction='none')\n",
        "    pt = torch.exp(-ce_loss)\n",
        "    return (alpha * (1 - pt) ** gamma * ce_loss).mean()"
      ],
      "metadata": {
        "id": "yKcv9MkxGhWv"
      },
      "execution_count": null,
      "outputs": []
    },
    {
      "cell_type": "code",
      "execution_count": null,
      "metadata": {
        "id": "7TygN8GCJHaV"
      },
      "outputs": [],
      "source": [
        "def train_model(model, epochs, lr, class_weights, X_train=X_train, y_train=y_train):\n",
        "  torch.manual_seed(42)\n",
        "  torch.cuda.manual_seed(42)\n",
        "\n",
        "  model.to(device)\n",
        "  X_train = X_train.to(device)\n",
        "  y_train = y_train.to(device)\n",
        "\n",
        "  loss_fn = nn.CrossEntropyLoss(weight=class_weights)\n",
        "  optimizer = torch.optim.Adam(params=model.parameters(), lr=lr, weight_decay=1e-5)\n",
        "\n",
        "  model.train()\n",
        "\n",
        "  for epoch in range(1, epochs + 1):\n",
        "    y_logits = model(X_train)\n",
        "    loss = loss_fn(y_logits, y_train)\n",
        "    accuracy = accuracy_func(y_logits, y_train)\n",
        "    optimizer.zero_grad()\n",
        "    loss.backward()\n",
        "    optimizer.step()\n",
        "\n",
        "    if ((epoch % 10) == 0):\n",
        "      print(f\"Epoch: {epoch} | Loss: {loss:.4f} | Accuracy: {accuracy:.4f}%\")\n",
        "      test_model(model, class_weights)\n",
        "      print(\"-----------------------------------------------------------------\")"
      ]
    },
    {
      "cell_type": "code",
      "execution_count": null,
      "metadata": {
        "id": "p7Y-lLMvJ6dr"
      },
      "outputs": [],
      "source": [
        "def test_model(model, class_weights, X_test=X_test, y_test=y_test):\n",
        "  model.eval()\n",
        "\n",
        "  model.to(device)\n",
        "  X_test = X_test.to(device)\n",
        "  y_test = y_test.to(device)\n",
        "\n",
        "  with torch.inference_mode():\n",
        "    y_logits = model(X_test)\n",
        "\n",
        "  loss_fn = nn.CrossEntropyLoss(weight=class_weights)\n",
        "  loss = loss_fn(y_logits, y_test)\n",
        "  accuracy = accuracy_func(y_logits, y_test)\n",
        "\n",
        "  print(f\"Test Loss: {loss:.4f} | Test Accuracy: {accuracy:.4f}%\")"
      ]
    },
    {
      "cell_type": "code",
      "execution_count": null,
      "metadata": {
        "id": "fN8yyD5s7434"
      },
      "outputs": [],
      "source": [
        "model = DiseasePredictor().to(device)\n",
        "\n",
        "y_numpy = y.cpu().numpy()\n",
        "class_weights = torch.tensor(compute_class_weight(class_weight='balanced', classes=np.unique(y_numpy), y=y_numpy), dtype=torch.float).to(device)"
      ]
    },
    {
      "cell_type": "code",
      "execution_count": null,
      "metadata": {
        "colab": {
          "base_uri": "https://localhost:8080/"
        },
        "id": "aGDGno0PNwKC",
        "outputId": "6aa3fb03-390e-4869-c046-af278b2e4c7b"
      },
      "outputs": [
        {
          "output_type": "stream",
          "name": "stdout",
          "text": [
            "Test Loss: 6.6261 | Test Accuracy: 0.0324%\n"
          ]
        }
      ],
      "source": [
        "test_model(model, class_weights)"
      ]
    },
    {
      "cell_type": "code",
      "execution_count": null,
      "metadata": {
        "colab": {
          "base_uri": "https://localhost:8080/"
        },
        "id": "h-HELp8F9dZl",
        "outputId": "2e4d56b4-802b-464a-883a-f38aacb14c2e"
      },
      "outputs": [
        {
          "output_type": "stream",
          "name": "stdout",
          "text": [
            "Epoch: 10 | Loss: 5.2479 | Accuracy: 16.4508%\n",
            "Test Loss: 6.5880 | Test Accuracy: 0.0790%\n",
            "-----------------------------------------------------------------\n",
            "Epoch: 20 | Loss: 6.5160 | Accuracy: 0.2835%\n",
            "Test Loss: 6.5170 | Test Accuracy: 0.3847%\n",
            "-----------------------------------------------------------------\n",
            "Epoch: 30 | Loss: 6.4454 | Accuracy: 18.8316%\n",
            "Test Loss: 6.4449 | Test Accuracy: 22.2411%\n",
            "-----------------------------------------------------------------\n",
            "Epoch: 40 | Loss: 6.3434 | Accuracy: 39.6654%\n",
            "Test Loss: 6.3387 | Test Accuracy: 40.6674%\n",
            "-----------------------------------------------------------------\n",
            "Epoch: 50 | Loss: 6.1560 | Accuracy: 48.7172%\n",
            "Test Loss: 6.1398 | Test Accuracy: 48.1898%\n",
            "-----------------------------------------------------------------\n",
            "Epoch: 60 | Loss: 5.7961 | Accuracy: 41.9677%\n",
            "Test Loss: 5.7570 | Test Accuracy: 40.6532%\n",
            "-----------------------------------------------------------------\n",
            "Epoch: 70 | Loss: 5.1204 | Accuracy: 31.0504%\n",
            "Test Loss: 5.0498 | Test Accuracy: 29.8445%\n",
            "-----------------------------------------------------------------\n",
            "Epoch: 80 | Loss: 4.1538 | Accuracy: 36.9353%\n",
            "Test Loss: 4.0844 | Test Accuracy: 39.1649%\n",
            "-----------------------------------------------------------------\n",
            "Epoch: 90 | Loss: 3.1659 | Accuracy: 56.1314%\n",
            "Test Loss: 3.1171 | Test Accuracy: 56.8076%\n",
            "-----------------------------------------------------------------\n",
            "Epoch: 100 | Loss: 2.2633 | Accuracy: 61.5075%\n",
            "Test Loss: 2.2373 | Test Accuracy: 62.0439%\n",
            "-----------------------------------------------------------------\n",
            "Epoch: 110 | Loss: 1.5116 | Accuracy: 67.6557%\n",
            "Test Loss: 1.5198 | Test Accuracy: 67.6285%\n",
            "-----------------------------------------------------------------\n",
            "Epoch: 120 | Loss: 0.9997 | Accuracy: 72.4881%\n",
            "Test Loss: 1.0362 | Test Accuracy: 72.4294%\n",
            "-----------------------------------------------------------------\n",
            "Epoch: 130 | Loss: 0.7012 | Accuracy: 76.5430%\n",
            "Test Loss: 0.7564 | Test Accuracy: 76.4893%\n",
            "-----------------------------------------------------------------\n",
            "Epoch: 140 | Loss: 0.5340 | Accuracy: 79.6355%\n",
            "Test Loss: 0.6016 | Test Accuracy: 79.5023%\n",
            "-----------------------------------------------------------------\n",
            "Epoch: 150 | Loss: 0.4369 | Accuracy: 81.8275%\n",
            "Test Loss: 0.5140 | Test Accuracy: 81.5353%\n",
            "-----------------------------------------------------------------\n",
            "Epoch: 160 | Loss: 0.3768 | Accuracy: 83.3396%\n",
            "Test Loss: 0.4612 | Test Accuracy: 82.8777%\n",
            "-----------------------------------------------------------------\n",
            "Epoch: 170 | Loss: 0.3369 | Accuracy: 84.3849%\n",
            "Test Loss: 0.4279 | Test Accuracy: 83.9205%\n",
            "-----------------------------------------------------------------\n",
            "Epoch: 180 | Loss: 0.3089 | Accuracy: 85.1321%\n",
            "Test Loss: 0.4058 | Test Accuracy: 84.5705%\n",
            "-----------------------------------------------------------------\n",
            "Epoch: 190 | Loss: 0.2883 | Accuracy: 85.6707%\n",
            "Test Loss: 0.3904 | Test Accuracy: 85.0221%\n",
            "-----------------------------------------------------------------\n",
            "Epoch: 200 | Loss: 0.2724 | Accuracy: 86.0924%\n",
            "Test Loss: 0.3793 | Test Accuracy: 85.3886%\n",
            "-----------------------------------------------------------------\n",
            "Epoch: 210 | Loss: 0.2599 | Accuracy: 86.4068%\n",
            "Test Loss: 0.3713 | Test Accuracy: 85.6599%\n",
            "-----------------------------------------------------------------\n",
            "Epoch: 220 | Loss: 0.2497 | Accuracy: 86.6680%\n",
            "Test Loss: 0.3656 | Test Accuracy: 85.8502%\n",
            "-----------------------------------------------------------------\n",
            "Epoch: 230 | Loss: 0.2414 | Accuracy: 86.8472%\n",
            "Test Loss: 0.3614 | Test Accuracy: 85.9900%\n",
            "-----------------------------------------------------------------\n",
            "Epoch: 240 | Loss: 0.2344 | Accuracy: 86.9940%\n",
            "Test Loss: 0.3585 | Test Accuracy: 86.1317%\n",
            "-----------------------------------------------------------------\n",
            "Epoch: 250 | Loss: 0.2285 | Accuracy: 87.1505%\n",
            "Test Loss: 0.3565 | Test Accuracy: 86.2471%\n",
            "-----------------------------------------------------------------\n",
            "Epoch: 260 | Loss: 0.2234 | Accuracy: 87.2659%\n",
            "Test Loss: 0.3552 | Test Accuracy: 86.3241%\n",
            "-----------------------------------------------------------------\n",
            "Epoch: 270 | Loss: 0.2191 | Accuracy: 87.3696%\n",
            "Test Loss: 0.3545 | Test Accuracy: 86.3848%\n",
            "-----------------------------------------------------------------\n",
            "Epoch: 280 | Loss: 0.2153 | Accuracy: 87.4334%\n",
            "Test Loss: 0.3543 | Test Accuracy: 86.5225%\n",
            "-----------------------------------------------------------------\n",
            "Epoch: 290 | Loss: 0.2119 | Accuracy: 87.4957%\n",
            "Test Loss: 0.3545 | Test Accuracy: 86.5529%\n",
            "-----------------------------------------------------------------\n",
            "Epoch: 300 | Loss: 0.2090 | Accuracy: 87.5534%\n",
            "Test Loss: 0.3550 | Test Accuracy: 86.6116%\n",
            "-----------------------------------------------------------------\n"
          ]
        }
      ],
      "source": [
        "EPOCHS = 300\n",
        "lr = 3e-4\n",
        "y_numpy = y.cpu().numpy()\n",
        "class_weights = torch.tensor(compute_class_weight(class_weight='balanced', classes=np.unique(y_numpy), y=y_numpy), dtype=torch.float).to(device)\n",
        "train_model(model, EPOCHS, lr, class_weights)"
      ]
    },
    {
      "cell_type": "code",
      "source": [
        "test_model(model, class_weights)"
      ],
      "metadata": {
        "id": "-Jq5AaEOpI4L",
        "colab": {
          "base_uri": "https://localhost:8080/"
        },
        "outputId": "ecaeb136-436a-4ec7-e0a0-2e4eb9d287a6"
      },
      "execution_count": null,
      "outputs": [
        {
          "output_type": "stream",
          "name": "stdout",
          "text": [
            "Test Loss: 0.3550 | Test Accuracy: 86.6116%\n"
          ]
        }
      ]
    },
    {
      "cell_type": "code",
      "source": [
        "model.to(device)\n",
        "X_test = X_test.to(device)\n",
        "y_test = y_test.to(device)\n",
        "\n",
        "with torch.inference_mode():\n",
        "  y_logits = model(X_test)\n",
        "\n",
        "  loss_fn = nn.CrossEntropyLoss(weight=class_weights)\n",
        "  loss = loss_fn(y_logits, y_test)\n",
        "  accuracy = accuracy_func(y_logits, y_test)\n",
        "\n",
        "  print(f\"Test Loss: {loss:.4f} | Test Accuracy: {accuracy:.4f}%\")"
      ],
      "metadata": {
        "id": "ZlD4fpSjVB_u",
        "colab": {
          "base_uri": "https://localhost:8080/"
        },
        "outputId": "adbc2924-7565-4b68-e4b3-eb191f77e3b4"
      },
      "execution_count": null,
      "outputs": [
        {
          "output_type": "stream",
          "name": "stdout",
          "text": [
            "Test Loss: 0.3550 | Test Accuracy: 86.6116%\n"
          ]
        }
      ]
    },
    {
      "cell_type": "code",
      "source": [
        "torch.save(model.state_dict(), 'model_weights.pth')"
      ],
      "metadata": {
        "id": "c98fZK4mBI6a"
      },
      "execution_count": null,
      "outputs": []
    }
  ],
  "metadata": {
    "colab": {
      "provenance": [],
      "gpuType": "T4"
    },
    "kernelspec": {
      "display_name": "Python 3",
      "name": "python3"
    },
    "language_info": {
      "name": "python"
    },
    "accelerator": "GPU"
  },
  "nbformat": 4,
  "nbformat_minor": 0
}